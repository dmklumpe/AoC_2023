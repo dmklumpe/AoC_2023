{
 "cells": [
  {
   "cell_type": "code",
   "execution_count": 1,
   "metadata": {},
   "outputs": [],
   "source": [
    "import os\n",
    "from aocd import get_data\n",
    "\n",
    "day = 3\n",
    "year = 2023\n",
    "\n",
    "rawfile_string = get_data(day=day, year=year)\n",
    "\n",
    "if not os.path.exists(f\"day{day}\"):\n",
    "    os.mkdir(f\"day{day}\")\n",
    "\n",
    "os.chdir(f\"day{day}\")\n",
    "\n",
    "if not os.path.exists(f\"day{day}_input.txt\"):\n",
    "    with open(f\"day{day}_input.txt\", \"w\") as f:\n",
    "        f.write(rawfile_string)"
   ]
  },
  {
   "cell_type": "markdown",
   "metadata": {},
   "source": [
    "## Part 1"
   ]
  },
  {
   "cell_type": "code",
   "execution_count": 3,
   "metadata": {},
   "outputs": [],
   "source": [
    "with open(f\"day{day}_input.txt\", \"r\") as f:\n",
    "    input = f.read().splitlines()\n",
    "\n",
    "lines = []\n",
    "for i in range(len(input)):\n",
    "    lines.append(list(input[i]))"
   ]
  },
  {
   "cell_type": "code",
   "execution_count": 5,
   "metadata": {},
   "outputs": [
    {
     "data": {
      "text/plain": [
       "507214"
      ]
     },
     "execution_count": 5,
     "metadata": {},
     "output_type": "execute_result"
    }
   ],
   "source": [
    "def checkneigh(input, i, j):\n",
    "    rows, cols = len(input), len(input[0])\n",
    "    directions = [(-1, -1), (-1, 0), (-1, 1), (0, -1), (0, 1), (1, -1), (1, 0), (1, 1)]\n",
    "\n",
    "    for di, dj in directions:\n",
    "        ni, nj = i + di, j + dj\n",
    "        if 0 <= ni < rows and 0 <= nj < cols:\n",
    "            if input[ni][nj] != \".\" and not input[ni][nj].isdigit():\n",
    "                return 1\n",
    "    return 0\n",
    "\n",
    "\n",
    "total = 0\n",
    "for i in range(len(lines)):\n",
    "    j = 0\n",
    "    numberfound = False\n",
    "    while j < len(lines[i]):\n",
    "        c = lines[i][j]\n",
    "        if c != \".\" and c.isdigit():\n",
    "            numberfound = True\n",
    "            digits = [c]\n",
    "            numbermask = checkneigh(lines, i, j)\n",
    "            if numberfound:\n",
    "                k = j + 1\n",
    "                while k < len(lines[i]) and lines[i][k].isdigit():\n",
    "                    digits.append(lines[i][k])\n",
    "                    numbermask += checkneigh(lines, i, k)\n",
    "                    k += 1\n",
    "                j = k\n",
    "                if numbermask > 0:\n",
    "                    total += int(\"\".join(digits))\n",
    "        else:\n",
    "            j += 1\n",
    "\n",
    "total"
   ]
  },
  {
   "cell_type": "markdown",
   "metadata": {},
   "source": [
    "## Part 2"
   ]
  },
  {
   "cell_type": "code",
   "execution_count": 7,
   "metadata": {},
   "outputs": [
    {
     "data": {
      "text/plain": [
       "72553319"
      ]
     },
     "execution_count": 7,
     "metadata": {},
     "output_type": "execute_result"
    }
   ],
   "source": [
    "from collections import Counter\n",
    "\n",
    "\n",
    "def checkgear(input, i, j):\n",
    "    rows, cols = len(input), len(input[0])\n",
    "    directions = [(-1, -1), (-1, 0), (-1, 1), (0, -1), (0, 1), (1, -1), (1, 0), (1, 1)]\n",
    "\n",
    "    for di, dj in directions:\n",
    "        ni, nj = i + di, j + dj\n",
    "        if 0 <= ni < rows and 0 <= nj < cols and input[ni][nj] == \"*\":\n",
    "            return 1, (ni, nj)\n",
    "    return 0, None\n",
    "\n",
    "\n",
    "numbers = []\n",
    "positions = []\n",
    "total = 0\n",
    "for i in range(len(lines)):\n",
    "    j = 0\n",
    "    numberfound = False\n",
    "    while j < len(lines[i]):\n",
    "        c = lines[i][j]\n",
    "        if c != \".\" and c.isdigit():\n",
    "            numberfound = True\n",
    "            digits = [c]\n",
    "            numbermask, pos = checkgear(lines, i, j)\n",
    "            if numberfound:\n",
    "                k = j + 1\n",
    "                while k < len(lines[i]) and lines[i][k].isdigit():\n",
    "                    digits.append(lines[i][k])\n",
    "                    if pos is None:\n",
    "                        pos = checkgear(lines, i, k)[1]\n",
    "                    numbermask += checkgear(lines, i, k)[0]\n",
    "                    k += 1\n",
    "                j = k\n",
    "                if numbermask > 0:\n",
    "                    numbers.append(int(\"\".join(digits)))\n",
    "                    positions.append(pos)\n",
    "        else:\n",
    "            j += 1\n",
    "\n",
    "c = Counter(positions)\n",
    "repeated = [k for k, v in c.items() if v > 1]\n",
    "\n",
    "indices = []\n",
    "for i in range(len(repeated)):\n",
    "    indices.append([j for j, x in enumerate(positions) if x == repeated[i]])\n",
    "\n",
    "total = 0\n",
    "for i in range(len(indices)):\n",
    "    total += numbers[indices[i][0]] * numbers[indices[i][1]]\n",
    "\n",
    "total"
   ]
  }
 ],
 "metadata": {
  "kernelspec": {
   "display_name": "basic-lLL0U30Q-py3.11",
   "language": "python",
   "name": "python3"
  },
  "language_info": {
   "codemirror_mode": {
    "name": "ipython",
    "version": 3
   },
   "file_extension": ".py",
   "mimetype": "text/x-python",
   "name": "python",
   "nbconvert_exporter": "python",
   "pygments_lexer": "ipython3",
   "version": "3.11.2"
  }
 },
 "nbformat": 4,
 "nbformat_minor": 2
}
