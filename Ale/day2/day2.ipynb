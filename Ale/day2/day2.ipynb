{
 "cells": [
  {
   "cell_type": "code",
   "execution_count": 1,
   "metadata": {},
   "outputs": [],
   "source": [
    "import os\n",
    "from aocd import get_data\n",
    "\n",
    "day = 2\n",
    "year = 2023\n",
    "\n",
    "rawfile_string = get_data(day=day, year=year)\n",
    "\n",
    "if not os.path.exists(f\"day{day}\"):\n",
    "    os.mkdir(f\"day{day}\")\n",
    "\n",
    "os.chdir(f\"day{day}\")\n",
    "\n",
    "if not os.path.exists(f\"day{day}_input.txt\"):\n",
    "    with open(f\"day{day}_input.txt\", \"w\") as f:\n",
    "        f.write(rawfile_string)"
   ]
  },
  {
   "cell_type": "markdown",
   "metadata": {},
   "source": [
    "## Part 1"
   ]
  },
  {
   "cell_type": "code",
   "execution_count": 40,
   "metadata": {},
   "outputs": [
    {
     "name": "stdout",
     "output_type": "stream",
     "text": [
      "['Game 1: 3 blue, 4 red; 1 red, 2 green, 6 blue; 2 green', 'Game 2: 1 blue, 2 green; 3 green, 4 blue, 1 red; 1 green, 1 blue', 'Game 3: 8 green, 6 blue, 20 red; 5 blue, 4 red, 13 green; 5 green, 1 red', 'Game 4: 1 green, 3 red, 6 blue; 3 green, 6 red; 3 green, 15 blue, 14 red', 'Game 5: 6 red, 1 blue, 3 green; 2 blue, 1 red, 2 green']\n"
     ]
    }
   ],
   "source": [
    "with open(f\"day{day}_input.txt\", \"r\") as f:\n",
    "    input = f.read().splitlines()"
   ]
  },
  {
   "cell_type": "code",
   "execution_count": 41,
   "metadata": {},
   "outputs": [
    {
     "data": {
      "text/plain": [
       "2317"
      ]
     },
     "execution_count": 41,
     "metadata": {},
     "output_type": "execute_result"
    }
   ],
   "source": [
    "def parse_game(gamestring):\n",
    "    gameid, game = gamestring.split(\":\")\n",
    "    gameid = int(gameid.replace(\"Game \", \"\"))\n",
    "    rounds = game.split(\";\")\n",
    "    outcomes = [r.split(\",\") for r in rounds]\n",
    "\n",
    "    return gameid, outcomes\n",
    "\n",
    "\n",
    "def analyze_game(outcomes):\n",
    "    redmax = 0\n",
    "    bluemax = 0\n",
    "    greenmax = 0\n",
    "    for r in outcomes:\n",
    "        for color in r:\n",
    "            if \"red\" in color:\n",
    "                redmax = max([int(color.replace(\" red\", \"\")), redmax])\n",
    "            elif \"blue\" in color:\n",
    "                bluemax = max([int(color.replace(\" blue\", \"\")), bluemax])\n",
    "            elif \"green\" in color:\n",
    "                greenmax = max([int(color.replace(\" green\", \"\")), greenmax])\n",
    "\n",
    "    return redmax, bluemax, greenmax\n",
    "\n",
    "\n",
    "def feasible_game(allgames):\n",
    "    totalid = 0\n",
    "    for gamestring in allgames:\n",
    "        id, outcomes = parse_game(gamestring)\n",
    "        redmax, bluemax, greenmax = analyze_game(outcomes)\n",
    "        if redmax <= 12 and bluemax <= 14 and greenmax <= 13:\n",
    "            totalid += id\n",
    "    return totalid\n",
    "\n",
    "\n",
    "feasible_game(input)"
   ]
  },
  {
   "cell_type": "markdown",
   "metadata": {},
   "source": [
    "## Part 2"
   ]
  },
  {
   "cell_type": "code",
   "execution_count": 42,
   "metadata": {},
   "outputs": [
    {
     "data": {
      "text/plain": [
       "74804"
      ]
     },
     "execution_count": 42,
     "metadata": {},
     "output_type": "execute_result"
    }
   ],
   "source": [
    "def gamepower(allgames):\n",
    "    cubepower = 0\n",
    "    for gamestring in allgames:\n",
    "        _, outcomes = parse_game(gamestring)\n",
    "        redmin, bluemin, greenmin = analyze_game(outcomes)\n",
    "        cubepower += redmin * bluemin * greenmin\n",
    "    return cubepower\n",
    "\n",
    "\n",
    "gamepower(input)"
   ]
  }
 ],
 "metadata": {
  "kernelspec": {
   "display_name": "basic-lLL0U30Q-py3.11",
   "language": "python",
   "name": "python3"
  },
  "language_info": {
   "codemirror_mode": {
    "name": "ipython",
    "version": 3
   },
   "file_extension": ".py",
   "mimetype": "text/x-python",
   "name": "python",
   "nbconvert_exporter": "python",
   "pygments_lexer": "ipython3",
   "version": "3.11.2"
  }
 },
 "nbformat": 4,
 "nbformat_minor": 2
}
