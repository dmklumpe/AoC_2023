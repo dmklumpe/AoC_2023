{
 "cells": [
  {
   "cell_type": "code",
   "execution_count": 1,
   "metadata": {},
   "outputs": [],
   "source": [
    "import os\n",
    "from aocd import get_data\n",
    "\n",
    "day = 1\n",
    "year = 2023\n",
    "\n",
    "rawfile_string = get_data(day=day, year=year)\n",
    "\n",
    "if not os.path.exists(f\"day{day}\"):\n",
    "    os.mkdir(f\"day{day}\")\n",
    "\n",
    "os.chdir(f\"day{day}\")\n",
    "\n",
    "if not os.path.exists(f\"day{day}_input.txt\"):\n",
    "    with open(f\"day{day}_input.txt\", \"w\") as f:\n",
    "        f.write(rawfile_string)"
   ]
  },
  {
   "cell_type": "markdown",
   "metadata": {},
   "source": [
    "## Part 1"
   ]
  },
  {
   "cell_type": "code",
   "execution_count": 9,
   "metadata": {},
   "outputs": [
    {
     "data": {
      "text/plain": [
       "55017"
      ]
     },
     "execution_count": 9,
     "metadata": {},
     "output_type": "execute_result"
    }
   ],
   "source": [
    "with open(f\"day{day}_input.txt\", \"r\") as f:\n",
    "    lines = f.read().splitlines()\n",
    "\n",
    "total = 0\n",
    "for line in lines:\n",
    "    for c in line:\n",
    "        if c.isdigit():\n",
    "            first_digit = int(c)\n",
    "            break\n",
    "    for c in line[::-1]:\n",
    "        if c.isdigit():\n",
    "            last_digit = int(c)\n",
    "            break\n",
    "    total += int(str(first_digit) + str(last_digit))\n",
    "\n",
    "total"
   ]
  },
  {
   "cell_type": "markdown",
   "metadata": {},
   "source": [
    "## Part 2"
   ]
  },
  {
   "cell_type": "code",
   "execution_count": 38,
   "metadata": {},
   "outputs": [
    {
     "data": {
      "text/plain": [
       "53539"
      ]
     },
     "execution_count": 38,
     "metadata": {},
     "output_type": "execute_result"
    }
   ],
   "source": [
    "number_dict = {\n",
    "    \"one\": \"1\",\n",
    "    \"two\": \"2\",\n",
    "    \"three\": \"3\",\n",
    "    \"four\": \"4\",\n",
    "    \"five\": \"5\",\n",
    "    \"six\": \"6\",\n",
    "    \"seven\": \"7\",\n",
    "    \"eight\": \"8\",\n",
    "    \"nine\": \"9\",\n",
    "}\n",
    "\n",
    "number_dict_rev = {\n",
    "    \"eno\": \"1\",\n",
    "    \"owt\": \"2\",\n",
    "    \"eerht\": \"3\",\n",
    "    \"ruof\": \"4\",\n",
    "    \"evif\": \"5\",\n",
    "    \"xis\": \"6\",\n",
    "    \"neves\": \"7\",\n",
    "    \"thgie\": \"8\",\n",
    "    \"enin\": \"9\",\n",
    "}\n",
    "\n",
    "\n",
    "def detect(s, reverseflag=False):\n",
    "    if reverseflag:\n",
    "        s = s[::-1]\n",
    "        used_dict = number_dict_rev\n",
    "    else:\n",
    "        used_dict = number_dict\n",
    "    for i in range(len(s)):\n",
    "        if s[i].isdigit():\n",
    "            return s[i]\n",
    "        else:\n",
    "            for word in used_dict.keys():\n",
    "                if s[i : i + len(word)] == word:\n",
    "                    return used_dict[word]\n",
    "\n",
    "\n",
    "with open(f\"day{day}_input.txt\", \"r\") as f:\n",
    "    lines = f.read().splitlines()\n",
    "\n",
    "total = 0\n",
    "for line in lines:\n",
    "    first_digit = detect(line, reverseflag=False)\n",
    "    last_digit = detect(line, reverseflag=True)\n",
    "    total += int(str(first_digit) + str(last_digit))\n",
    "\n",
    "total"
   ]
  }
 ],
 "metadata": {
  "kernelspec": {
   "display_name": "basic-lLL0U30Q-py3.11",
   "language": "python",
   "name": "python3"
  },
  "language_info": {
   "codemirror_mode": {
    "name": "ipython",
    "version": 3
   },
   "file_extension": ".py",
   "mimetype": "text/x-python",
   "name": "python",
   "nbconvert_exporter": "python",
   "pygments_lexer": "ipython3",
   "version": "3.11.2"
  }
 },
 "nbformat": 4,
 "nbformat_minor": 2
}
