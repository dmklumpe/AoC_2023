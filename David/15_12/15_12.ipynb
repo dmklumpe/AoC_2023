{
 "cells": [
  {
   "cell_type": "code",
   "execution_count": 1,
   "id": "0a87875f",
   "metadata": {},
   "outputs": [],
   "source": [
    "import numpy as np\n",
    "from aocd import get_data"
   ]
  },
  {
   "cell_type": "markdown",
   "id": "5a189a32",
   "metadata": {},
   "source": [
    "# Part 1\n",
    "Add test case"
   ]
  },
  {
   "cell_type": "code",
   "execution_count": 2,
   "id": "d64db2b6",
   "metadata": {},
   "outputs": [
    {
     "name": "stdout",
     "output_type": "stream",
     "text": [
      "['.|...\\\\....', '|.-.\\\\.....', '.....|-...', '........|.', '..........', '.........\\\\', '..../.\\\\\\\\..', '.-.-/..|..', '.|....-|.\\\\', '..//.|....']\n"
     ]
    }
   ],
   "source": [
    "test_str = r\".|...\\....\\n|.-.\\.....\\n.....|-...\\n........|.\\n..........\\n.........\\\\n..../.\\\\..\\n.-.-/..|..\\n.|....-|.\\\\n..//.|....\"\n",
    "test = test_str.split(r\"\\n\")\n",
    "print(test)"
   ]
  },
  {
   "cell_type": "markdown",
   "id": "39a80c09",
   "metadata": {},
   "source": [
    "Add actual puzzle input"
   ]
  },
  {
   "cell_type": "code",
   "execution_count": 3,
   "id": "bd68e03e",
   "metadata": {},
   "outputs": [
    {
     "data": {
      "text/plain": [
       "'\\\\\\\\.........../..............-..../....\\\\.......\\\\.................|....|..........|............-\\\\.....|.........'"
      ]
     },
     "execution_count": 3,
     "metadata": {},
     "output_type": "execute_result"
    }
   ],
   "source": [
    "data_str = get_data(day=16)\n",
    "data = data_str.split(\"\\n\")\n",
    "data[0]"
   ]
  },
  {
   "cell_type": "markdown",
   "id": "79c506cd",
   "metadata": {},
   "source": [
    "Create empty list of beams to store active beams in"
   ]
  },
  {
   "cell_type": "code",
   "execution_count": 4,
   "id": "02c3a7cc",
   "metadata": {},
   "outputs": [],
   "source": [
    "beams = []\n",
    "data_energized = np.empty((len(test),len(test[0])), dtype=object)\n",
    "for i in range(data_energized.shape[0]):\n",
    "    for j in range(data_energized.shape[1]):\n",
    "        data_energized[i,j] = []"
   ]
  },
  {
   "cell_type": "markdown",
   "id": "4539c89c",
   "metadata": {},
   "source": [
    "Create beam class"
   ]
  },
  {
   "cell_type": "code",
   "execution_count": 63,
   "id": "87368a43",
   "metadata": {},
   "outputs": [],
   "source": [
    "class Beam:\n",
    "    def __init__(self, row = 0, i = 0, direction=\"r\", delete=False, first=False):\n",
    "        global data\n",
    "        self.row = row\n",
    "        self.i = i\n",
    "        self.dir = direction\n",
    "        if first:\n",
    "            if self.dir == \"d\" and data[self.row][self.i] == \"/\":\n",
    "                self.mirror(\"l\")\n",
    "            elif self.dir == \"d\" and data[self.row][self.i] == \"\\\\\":\n",
    "                self.mirror(\"r\")\n",
    "            elif self.dir == \"d\" and data[self.row][self.i] == \"-\":\n",
    "                self.split(\"l\")\n",
    "            elif self.dir == \"u\" and data[self.row][self.i] == \"/\":\n",
    "                self.mirror(\"r\")\n",
    "            elif self.dir == \"u\" and data[self.row][self.i] == \"\\\\\":\n",
    "                self.mirror(\"l\")\n",
    "            elif self.dir == \"u\" and data[self.row][self.i] == \"-\":\n",
    "                self.split(\"l\")\n",
    "            elif self.dir == \"l\" and data[self.row][self.i] == \"/\":\n",
    "                self.mirror(\"d\")\n",
    "            elif self.dir == \"l\" and data[self.row][self.i] == \"\\\\\":\n",
    "                self.mirror(\"u\")\n",
    "            elif self.dir == \"l\" and data[self.row][self.i] == \"|\":\n",
    "                self.split(\"u\")\n",
    "            elif self.dir == \"r\" and data[self.row][self.i] == \"/\":\n",
    "                self.mirror(\"u\")\n",
    "            elif self.dir == \"r\" and data[self.row][self.i] == \"\\\\\":\n",
    "                self.mirror(\"d\")\n",
    "            elif self.dir == \"r\" and data[self.row][self.i] == \"|\":\n",
    "                self.split(\"u\")\n",
    "        self.delete = False\n",
    "        beams.append(self)\n",
    "        \n",
    "    def split(self, direction):\n",
    "        self.dir = direction\n",
    "        if direction == \"l\":\n",
    "            split_dir = \"r\"\n",
    "        elif direction == \"r\":\n",
    "            split_dir = \"l\"\n",
    "        elif direction == \"u\":\n",
    "            split_dir = \"d\"\n",
    "        elif direction == \"d\":\n",
    "            split_dir = \"u\"\n",
    "        Beam(row=self.row, i=self.i, direction=split_dir)\n",
    "        \n",
    "    def mirror(self, direction):\n",
    "        self.dir = direction\n",
    "        \n",
    "    def energize(self):\n",
    "        global data_energized\n",
    "        if self.dir not in data_energized[self.row][self.i]:\n",
    "            data_energized[self.row, self.i].append(self.dir)\n",
    "        else:\n",
    "            self.delete = True\n",
    "        \n",
    "    def move(self, contraption=test):\n",
    "        # complete directional move\n",
    "        if self.dir == \"r\":\n",
    "            self.i += 1\n",
    "        elif self.dir == \"l\":\n",
    "            self.i -= 1\n",
    "        elif self.dir == \"u\":\n",
    "            self.row -= 1\n",
    "        elif self.dir == \"d\":\n",
    "            self.row += 1\n",
    "        \n",
    "        # check if on contraption\n",
    "        if self.row >= len(contraption) or self.i >= len(contraption[0]) or self.row == -1 or self.i == -1:\n",
    "            self.delete=True\n",
    "        \n",
    "        # post move admin\n",
    "        if not self.delete:\n",
    "            # add direction to data_energized\n",
    "            self.energize()\n",
    "                \n",
    "            # check if on mirror or splitter\n",
    "            new_tile = contraption[self.row][self.i]\n",
    "            if self.dir in [\"r\",\"l\"] and new_tile == \"|\":\n",
    "                self.split(\"u\")\n",
    "            elif self.dir in [\"u\",\"d\"] and new_tile == \"-\":\n",
    "                self.split(\"l\")\n",
    "            elif self.dir == \"u\" and new_tile == \"\\\\\":\n",
    "                self.mirror(\"l\")\n",
    "            elif self.dir == \"u\" and new_tile == \"/\":\n",
    "                self.mirror(\"r\")\n",
    "            elif self.dir == \"d\" and new_tile == \"\\\\\":\n",
    "                self.mirror(\"r\")\n",
    "            elif self.dir == \"d\" and new_tile == \"/\":\n",
    "                self.mirror(\"l\")\n",
    "            elif self.dir == \"r\" and new_tile == \"\\\\\":\n",
    "                self.mirror(\"d\")\n",
    "            elif self.dir == \"r\" and new_tile == \"/\":\n",
    "                self.mirror(\"u\")\n",
    "            elif self.dir == \"l\" and new_tile == \"\\\\\":\n",
    "                self.mirror(\"u\")\n",
    "            elif self.dir == \"l\" and new_tile == \"/\":\n",
    "                self.mirror(\"d\")\n",
    "            \n",
    "            "
   ]
  },
  {
   "cell_type": "markdown",
   "id": "dc396896",
   "metadata": {},
   "source": [
    "Create functions to reset while debugging"
   ]
  },
  {
   "cell_type": "code",
   "execution_count": 74,
   "id": "d80f6d8f",
   "metadata": {},
   "outputs": [],
   "source": [
    "def reset_puzzle(puzzle_type=\"test\"):\n",
    "    global beams,data_energized\n",
    "    beams = []\n",
    "    if puzzle_type == \"test\":\n",
    "        data_str = r\".|...\\....\\n|.-.\\.....\\n.....|-...\\n........|.\\n..........\\n.........\\\\n..../.\\\\..\\n.-.-/..|..\\n.|....-|.\\\\n..//.|....\"\n",
    "        data = data_str.split(r\"\\n\")\n",
    "    elif puzzle_type == \"actual\":\n",
    "        data_str = get_data(day=16)\n",
    "        data = data_str.split(\"\\n\")\n",
    "    data_energized = np.empty((len(data),len(data[0])), dtype=object)\n",
    "    for i in range(data_energized.shape[0]):\n",
    "        for j in range(data_energized.shape[1]):\n",
    "            data_energized[i,j] = []\n",
    "    return data"
   ]
  },
  {
   "cell_type": "code",
   "execution_count": 75,
   "id": "414c022d",
   "metadata": {},
   "outputs": [],
   "source": [
    "def status(data=test,print_results=True):\n",
    "    global data_energized\n",
    "    non_empty_count = np.sum([1 for row in data_energized for item in row if len(item) > 0])\n",
    "    if print_results:\n",
    "        print(\"\\n=====Contraption Energized=====\")\n",
    "        print(\"   0123456789\")\n",
    "        for i,val in enumerate(data):\n",
    "            print_str = f\"{i}: \"\n",
    "            for j, val2 in enumerate(val):\n",
    "                if data_energized[i,j] == []:\n",
    "                    print_str += val2\n",
    "                elif len(data_energized[i,j]) > 1:\n",
    "                    print_str += str(len(data_energized[i,j]))\n",
    "                else:\n",
    "                    print_str += data_energized[i,j][0]\n",
    "            print(print_str)    \n",
    "        print(f\"There are {non_empty_count} tiles energized\")\n",
    "        if len([beam for beam in beams if not beam.delete]) > 0:\n",
    "            print(\"\\n==========Beams==========\")\n",
    "            for i, beam in enumerate(beams):\n",
    "                if not beam.delete:\n",
    "                    print(f\"{i}: {beam.row=} {beam.i=} {beam.dir=}\")\n",
    "    return non_empty_count"
   ]
  },
  {
   "cell_type": "code",
   "execution_count": 76,
   "id": "dfd18e55",
   "metadata": {},
   "outputs": [
    {
     "name": "stdout",
     "output_type": "stream",
     "text": [
      "\n",
      "=====Contraption Energized=====\n",
      "   0123456789\n",
      "0: r|...\\....\n",
      "1: |.-.\\.....\n",
      "2: .....|-...\n",
      "3: ........|.\n",
      "4: ..........\n",
      "5: .........\\\n",
      "6: ..../.\\\\..\n",
      "7: .-.-/..|..\n",
      "8: .|....-|.\\\n",
      "9: ..//.|....\n",
      "There are 1 tiles energized\n",
      "\n",
      "==========Beams==========\n",
      "0: beam.row=0 beam.i=0 beam.dir='r'\n"
     ]
    },
    {
     "data": {
      "text/plain": [
       "1"
      ]
     },
     "execution_count": 76,
     "metadata": {},
     "output_type": "execute_result"
    }
   ],
   "source": [
    "data = reset_puzzle()\n",
    "Beam(first=True)\n",
    "beams[0].energize()\n",
    "status()"
   ]
  },
  {
   "cell_type": "code",
   "execution_count": 77,
   "id": "ed793531",
   "metadata": {
    "scrolled": true
   },
   "outputs": [
    {
     "name": "stdout",
     "output_type": "stream",
     "text": [
      "\n",
      "=====Contraption Energized=====\n",
      "   0123456789\n",
      "0: r2lllu....\n",
      "1: |d-.\\u....\n",
      "2: .d...lurrr\n",
      "3: .d...du.|.\n",
      "4: .d...du...\n",
      "5: .d...du..\\\n",
      "6: .d..u22u..\n",
      "7: l2rrrddu..\n",
      "8: .llll2dr.\\\n",
      "9: .d//.d.d..\n",
      "There are 46 tiles energized\n"
     ]
    },
    {
     "data": {
      "text/plain": [
       "46"
      ]
     },
     "execution_count": 77,
     "metadata": {},
     "output_type": "execute_result"
    }
   ],
   "source": [
    "for beam in beams:\n",
    "    while not beam.delete:\n",
    "        beam.move()\n",
    "        \n",
    "status()"
   ]
  },
  {
   "cell_type": "code",
   "execution_count": 78,
   "id": "421f267e",
   "metadata": {},
   "outputs": [
    {
     "data": {
      "text/plain": [
       "8034"
      ]
     },
     "execution_count": 78,
     "metadata": {},
     "output_type": "execute_result"
    }
   ],
   "source": [
    "data = reset_puzzle(\"actual\")\n",
    "Beam(first=True)\n",
    "beams[0].energize()\n",
    "\n",
    "for beam in beams:\n",
    "    while not beam.delete:\n",
    "        beam.move(contraption=data)\n",
    "        \n",
    "status(data=data,print_results=False)"
   ]
  },
  {
   "cell_type": "markdown",
   "id": "437363a2",
   "metadata": {},
   "source": [
    "# Part 2"
   ]
  },
  {
   "cell_type": "code",
   "execution_count": 84,
   "id": "e1779fb4",
   "metadata": {
    "scrolled": true
   },
   "outputs": [
    {
     "name": "stdout",
     "output_type": "stream",
     "text": [
      "finished l\n",
      "finished r\n",
      "finished u\n",
      "finished d\n"
     ]
    },
    {
     "data": {
      "text/plain": [
       "8225"
      ]
     },
     "execution_count": 84,
     "metadata": {},
     "output_type": "execute_result"
    }
   ],
   "source": [
    "data = reset_puzzle(\"actual\")\n",
    "max_energized = 0\n",
    "for direction in [\"l\",\"r\",\"u\",\"d\"]:\n",
    "    for i in range(len(data)):\n",
    "        data = reset_puzzle(\"actual\")\n",
    "        if direction == \"r\":\n",
    "            Beam(row=i,direction=direction,first=True)\n",
    "        elif direction == \"l\":\n",
    "            Beam(row=i,i=len(data)-1,direction=direction,first=True)\n",
    "        elif direction == \"u\":\n",
    "            Beam(row=len(data)-1,i=i,direction=direction,first=True)\n",
    "        else:\n",
    "            Beam(i=i,direction=direction,first=True)\n",
    "            \n",
    "        beams[0].energize()\n",
    "        \n",
    "        for beam in beams:\n",
    "            while not beam.delete:\n",
    "                beam.move(contraption=data)\n",
    "                \n",
    "        energized_count = status(data=data,print_results=False)\n",
    "        if energized_count > max_energized:\n",
    "            max_energized = energized_count\n",
    "        \n",
    "    print(\"finished\",direction)\n",
    "\n",
    "max_energized"
   ]
  },
  {
   "cell_type": "code",
   "execution_count": 69,
   "id": "ae721174",
   "metadata": {},
   "outputs": [
    {
     "data": {
      "text/plain": [
       "110"
      ]
     },
     "execution_count": 69,
     "metadata": {},
     "output_type": "execute_result"
    }
   ],
   "source": [
    "len(data)"
   ]
  }
 ],
 "metadata": {
  "kernelspec": {
   "display_name": "Python 3",
   "language": "python",
   "name": "python3"
  },
  "language_info": {
   "codemirror_mode": {
    "name": "ipython",
    "version": 3
   },
   "file_extension": ".py",
   "mimetype": "text/x-python",
   "name": "python",
   "nbconvert_exporter": "python",
   "pygments_lexer": "ipython3",
   "version": "3.8.8"
  }
 },
 "nbformat": 4,
 "nbformat_minor": 5
}
