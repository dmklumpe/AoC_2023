{
 "cells": [
  {
   "cell_type": "markdown",
   "id": "c8fe207e-8c71-472f-953e-582a5f1b3c0e",
   "metadata": {},
   "source": [
    "# Part 1\n",
    "## Create function to read data in as list"
   ]
  },
  {
   "cell_type": "code",
   "execution_count": 1,
   "id": "922ef4c3-bde7-4ce5-89a8-adfa2aa25087",
   "metadata": {},
   "outputs": [],
   "source": [
    "def file_to_lst(filepath=\"01_12\\\\part_1.txt\"):\n",
    "    my_file = open(filepath)\n",
    "    data = my_file.read()\n",
    "    return(data.split(\"\\n\"))"
   ]
  },
  {
   "cell_type": "markdown",
   "id": "ca981880-4585-474c-b4a7-7189dcd841df",
   "metadata": {},
   "source": [
    "Save problem input list as `data` and show first five values"
   ]
  },
  {
   "cell_type": "code",
   "execution_count": 2,
   "id": "20ebb7b8-6f94-471d-8262-c32c5a5e27cf",
   "metadata": {},
   "outputs": [
    {
     "data": {
      "text/plain": [
       "['46threevqs8114',\n",
       " 'threetwoonez1gtrd',\n",
       " '6ffxbtff',\n",
       " '769twotwo6rv9',\n",
       " 'gjrcjrkvghthreegqqrg82qbct']"
      ]
     },
     "execution_count": 2,
     "metadata": {},
     "output_type": "execute_result"
    }
   ],
   "source": [
    "data = file_to_lst()\n",
    "data[:5]"
   ]
  },
  {
   "cell_type": "markdown",
   "id": "6de27cad-1536-4cad-80fe-69570836f490",
   "metadata": {},
   "source": [
    "## Create function to calculate calibration sum"
   ]
  },
  {
   "cell_type": "code",
   "execution_count": 3,
   "id": "d8114729-814e-47ed-8356-07eae52d1041",
   "metadata": {},
   "outputs": [],
   "source": [
    "def elf_calibrate(lst,test=False):\n",
    "    cal_sum = 0\n",
    "    for w in lst:\n",
    "        if test:\n",
    "            print(f\"=========={w}==========\")\n",
    "        # find first number\n",
    "        i = 0\n",
    "        cont = True\n",
    "        while cont:\n",
    "            if w[i].isdigit():\n",
    "                first = w[i]\n",
    "                if test:\n",
    "                    print(f\"{first=}\")\n",
    "                cont = False\n",
    "            else:\n",
    "                i+=1\n",
    "        # find last number\n",
    "        i=1\n",
    "        cont = True\n",
    "        while cont:\n",
    "            if w[-i].isdigit():\n",
    "                last = w[-i]\n",
    "                if test:\n",
    "                    print(f\"{last=}\")\n",
    "                cont = False\n",
    "            else:\n",
    "                i += 1\n",
    "        cal_sum += int(first+last)\n",
    "        if test:\n",
    "            print(f\"{int(first+last)=}\")\n",
    "            print(f\"{cal_sum=}\")\n",
    "    print((\"==============================\\n\" if test else \"\") + f\"final calibration sum = {cal_sum}\")\n",
    "    return cal_sum"
   ]
  },
  {
   "cell_type": "markdown",
   "id": "59ddcb5d-05e3-4131-82b5-6abd54c3c1d6",
   "metadata": {},
   "source": [
    "Test function"
   ]
  },
  {
   "cell_type": "code",
   "execution_count": 4,
   "id": "c17dd5af-e82c-47c0-b955-ff0d55c1d97b",
   "metadata": {
    "tags": []
   },
   "outputs": [
    {
     "name": "stdout",
     "output_type": "stream",
     "text": [
      "==========1abc2==========\n",
      "first='1'\n",
      "last='2'\n",
      "int(first+last)=12\n",
      "cal_sum=12\n",
      "==========pqr3stu8vwx==========\n",
      "first='3'\n",
      "last='8'\n",
      "int(first+last)=38\n",
      "cal_sum=50\n",
      "==========a1b2c3d4e5f==========\n",
      "first='1'\n",
      "last='5'\n",
      "int(first+last)=15\n",
      "cal_sum=65\n",
      "==========treb7uchet==========\n",
      "first='7'\n",
      "last='7'\n",
      "int(first+last)=77\n",
      "cal_sum=142\n",
      "==============================\n",
      "final calibration sum = 142\n"
     ]
    },
    {
     "data": {
      "text/plain": [
       "142"
      ]
     },
     "execution_count": 4,
     "metadata": {},
     "output_type": "execute_result"
    }
   ],
   "source": [
    "test_list = [\n",
    "    \"1abc2\",\n",
    "    \"pqr3stu8vwx\",\n",
    "    \"a1b2c3d4e5f\",\n",
    "    \"treb7uchet\"\n",
    "]\n",
    "elf_calibrate(test_list,True)"
   ]
  },
  {
   "cell_type": "markdown",
   "id": "74bda648-1b15-42f3-bb68-8e86a5f83e65",
   "metadata": {},
   "source": [
    "Complete part 1"
   ]
  },
  {
   "cell_type": "code",
   "execution_count": 5,
   "id": "91151e44-0562-4b1e-a057-7443b29d5fa7",
   "metadata": {},
   "outputs": [
    {
     "name": "stdout",
     "output_type": "stream",
     "text": [
      "final calibration sum = 53194\n"
     ]
    },
    {
     "data": {
      "text/plain": [
       "53194"
      ]
     },
     "execution_count": 5,
     "metadata": {},
     "output_type": "execute_result"
    }
   ],
   "source": [
    "elf_calibrate(data)"
   ]
  },
  {
   "cell_type": "markdown",
   "id": "2c36beac-7692-4df4-8940-c71c078b7b88",
   "metadata": {
    "tags": []
   },
   "source": [
    "# Part 2\n",
    "## Update function for part 2"
   ]
  },
  {
   "cell_type": "code",
   "execution_count": 6,
   "id": "32be625d-6e45-4999-b958-a297fcb76143",
   "metadata": {},
   "outputs": [],
   "source": [
    "def elf_calibrate_2(lst,test=False):\n",
    "    cal_sum = 0\n",
    "    for w in lst:\n",
    "        if test:\n",
    "            print(f\"=========={w}==========\")\n",
    "        # find first number\n",
    "        i = 0\n",
    "        cont = True\n",
    "        while cont:\n",
    "            if w[i].isdigit():\n",
    "                first = w[i]\n",
    "                cont = False\n",
    "            elif w[i:i+3] == \"one\":\n",
    "                first = \"1\"\n",
    "                cont = False\n",
    "            elif w[i:i+3] == \"two\":\n",
    "                first = \"2\"\n",
    "                cont = False\n",
    "            elif w[i:i+5] == \"three\":\n",
    "                first = \"3\"\n",
    "                cont = False\n",
    "            elif w[i:i+4] == \"four\":\n",
    "                first = \"4\"\n",
    "                cont = False\n",
    "            elif w[i:i+4] == \"five\":\n",
    "                first = \"5\"\n",
    "                cont = False\n",
    "            elif w[i:i+3] == \"six\":\n",
    "                first = \"6\"\n",
    "                cont = False\n",
    "            elif w[i:i+5] == \"seven\":\n",
    "                first = \"7\"\n",
    "                cont = False\n",
    "            elif w[i:i+5] == \"eight\":\n",
    "                first = \"8\"\n",
    "                cont = False\n",
    "            elif w[i:i+4] == \"nine\":\n",
    "                first = \"9\"\n",
    "                cont = False\n",
    "            else:\n",
    "                i+=1\n",
    "        # find last number\n",
    "        i=len(w)\n",
    "        cont = True\n",
    "        while cont:\n",
    "            if w[i-1].isdigit():\n",
    "                last = w[i-1]\n",
    "                cont = False\n",
    "            elif w[i-3:i] == \"one\":\n",
    "                last = \"1\"\n",
    "                cont = False\n",
    "            elif w[i-3:i] == \"two\":\n",
    "                last = \"2\"\n",
    "                cont = False\n",
    "            elif w[i-5:i] == \"three\":\n",
    "                last = \"3\"\n",
    "                cont = False\n",
    "            elif w[i-4:i] == \"four\":\n",
    "                last = \"4\"\n",
    "                cont = False\n",
    "            elif w[i-4:i] == \"five\":\n",
    "                last = \"5\"\n",
    "                cont = False\n",
    "            elif w[i-3:i] == \"six\":\n",
    "                last = \"6\"\n",
    "                cont = False\n",
    "            elif w[i-5:i] == \"seven\":\n",
    "                last = \"7\"\n",
    "                cont = False\n",
    "            elif w[i-5:i] == \"eight\":\n",
    "                last = \"8\"\n",
    "                cont = False\n",
    "            elif w[i-4:i] == \"nine\":\n",
    "                last = \"9\"\n",
    "                cont = False\n",
    "            else:\n",
    "                i -= 1\n",
    "        cal_sum += int(first+last)\n",
    "        if test:\n",
    "            print(f\"{first=}\")\n",
    "            print(f\"{last=}\")\n",
    "            print(f\"{int(first+last)=}\")\n",
    "            print(f\"{cal_sum=}\")\n",
    "    print((\"==============================\\n\" if test else \"\") + f\"final calibration sum = {cal_sum}\")\n",
    "    return cal_sum"
   ]
  },
  {
   "cell_type": "markdown",
   "id": "6177a537-1a09-42af-8e6c-6cfc991feeb8",
   "metadata": {},
   "source": [
    "Test function"
   ]
  },
  {
   "cell_type": "code",
   "execution_count": 7,
   "id": "fedd1789-4b19-4aef-b14c-2902209b835a",
   "metadata": {},
   "outputs": [
    {
     "name": "stdout",
     "output_type": "stream",
     "text": [
      "==========two1nine==========\n",
      "first='2'\n",
      "last='9'\n",
      "int(first+last)=29\n",
      "cal_sum=29\n",
      "==========eightwothree==========\n",
      "first='8'\n",
      "last='3'\n",
      "int(first+last)=83\n",
      "cal_sum=112\n",
      "==========abcone2threexyz==========\n",
      "first='1'\n",
      "last='3'\n",
      "int(first+last)=13\n",
      "cal_sum=125\n",
      "==========xtwone3four==========\n",
      "first='2'\n",
      "last='4'\n",
      "int(first+last)=24\n",
      "cal_sum=149\n",
      "==========4nineeightseven2==========\n",
      "first='4'\n",
      "last='2'\n",
      "int(first+last)=42\n",
      "cal_sum=191\n",
      "==========zoneight234==========\n",
      "first='1'\n",
      "last='4'\n",
      "int(first+last)=14\n",
      "cal_sum=205\n",
      "==========7pqrstsixteen==========\n",
      "first='7'\n",
      "last='6'\n",
      "int(first+last)=76\n",
      "cal_sum=281\n",
      "==============================\n",
      "final calibration sum = 281\n"
     ]
    },
    {
     "data": {
      "text/plain": [
       "281"
      ]
     },
     "execution_count": 7,
     "metadata": {},
     "output_type": "execute_result"
    }
   ],
   "source": [
    "test_lst_2=[\n",
    "    \"two1nine\",\n",
    "    \"eightwothree\",\n",
    "    \"abcone2threexyz\",\n",
    "    \"xtwone3four\",\n",
    "    \"4nineeightseven2\",\n",
    "    \"zoneight234\",\n",
    "    \"7pqrstsixteen\",\n",
    "]\n",
    "elf_calibrate_2(test_lst_2,True)"
   ]
  },
  {
   "cell_type": "markdown",
   "id": "e92d5a94-fee9-4c14-a3cf-431717f65db0",
   "metadata": {},
   "source": [
    "Complete part 2"
   ]
  },
  {
   "cell_type": "code",
   "execution_count": 8,
   "id": "cc22ed10-b466-4244-a8e4-063465ae37ff",
   "metadata": {},
   "outputs": [
    {
     "name": "stdout",
     "output_type": "stream",
     "text": [
      "final calibration sum = 54249\n"
     ]
    },
    {
     "data": {
      "text/plain": [
       "54249"
      ]
     },
     "execution_count": 8,
     "metadata": {},
     "output_type": "execute_result"
    }
   ],
   "source": [
    "elf_calibrate_2(data)"
   ]
  }
 ],
 "metadata": {
  "kernelspec": {
   "display_name": "Python 3",
   "language": "python",
   "name": "python3"
  },
  "language_info": {
   "codemirror_mode": {
    "name": "ipython",
    "version": 3
   },
   "file_extension": ".py",
   "mimetype": "text/x-python",
   "name": "python",
   "nbconvert_exporter": "python",
   "pygments_lexer": "ipython3",
   "version": "3.8.8"
  }
 },
 "nbformat": 4,
 "nbformat_minor": 5
}
