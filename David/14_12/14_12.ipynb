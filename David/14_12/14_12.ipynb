{
 "cells": [
  {
   "cell_type": "code",
   "execution_count": 1,
   "id": "dd0ede44",
   "metadata": {},
   "outputs": [],
   "source": [
    "import numpy as np, pandas as pd\n",
    "from aocd import get_data"
   ]
  },
  {
   "cell_type": "markdown",
   "id": "f88e5330",
   "metadata": {},
   "source": [
    "# Part 1"
   ]
  },
  {
   "cell_type": "markdown",
   "id": "0e28c64a",
   "metadata": {},
   "source": [
    "Add test data"
   ]
  },
  {
   "cell_type": "code",
   "execution_count": 2,
   "id": "f8645456",
   "metadata": {
    "scrolled": true
   },
   "outputs": [
    {
     "data": {
      "text/plain": [
       "['O....#....',\n",
       " 'O.OO#....#',\n",
       " '.....##...',\n",
       " 'OO.#O....O',\n",
       " '.O.....O#.',\n",
       " 'O.#..O.#.#',\n",
       " '..O..#O..O',\n",
       " '.......O..',\n",
       " '#....###..',\n",
       " '#OO..#....']"
      ]
     },
     "execution_count": 2,
     "metadata": {},
     "output_type": "execute_result"
    }
   ],
   "source": [
    "test = \"O....#....\\nO.OO#....#\\n.....##...\\nOO.#O....O\\n.O.....O#.\\nO.#..O.#.#\\n..O..#O..O\\n.......O..\\n#....###..\\n#OO..#....\"\n",
    "test_lst = test.split(\"\\n\")\n",
    "test_lst"
   ]
  },
  {
   "cell_type": "markdown",
   "id": "2e762512",
   "metadata": {},
   "source": [
    "Define function to tilt up and output re-arranged setup with total load"
   ]
  },
  {
   "cell_type": "code",
   "execution_count": 3,
   "id": "86e30eea",
   "metadata": {},
   "outputs": [],
   "source": [
    "def tilt_north(input_lst):\n",
    "    new_lst = [\"\" for i in input_lst] # generate new list of blank strings for future storage of new rock arrangement\n",
    "\n",
    "    # loop through each column to arrange\n",
    "    for i,val in enumerate(input_lst[0]):\n",
    "        # get column i as an array\n",
    "        col_lst = [row[i] for row in input_lst]\n",
    "        col_array = np.array(col_lst)\n",
    "\n",
    "        # find indexes of cube-shaped rocks (\"#\" character)\n",
    "        cube_locs = np.where(col_array==\"#\")[0]\n",
    "\n",
    "        # find number of rounded rocks between cubes\n",
    "        if len(cube_locs) == 0:\n",
    "            next_index = len(col_array)\n",
    "        else:\n",
    "            next_index = cube_locs[0]\n",
    "        first_segment = col_array[0:next_index]\n",
    "\n",
    "        # re-arrange first segment (segments are sections of \"O\" and \".\" chars between \"#\"s)\n",
    "        first_segment.sort()\n",
    "        first_segment = np.flip(first_segment)\n",
    "        col_array[0:next_index] = first_segment\n",
    "\n",
    "        # rearrange remaining segments\n",
    "        for j,loc in enumerate(cube_locs):\n",
    "            if j+1 == len(cube_locs):\n",
    "                next_index = len(col_array)\n",
    "            else:\n",
    "                next_index = cube_locs[j+1]\n",
    "            next_segment = col_array[loc+1:next_index]\n",
    "            next_segment.sort()\n",
    "            next_segment = np.flip(next_segment)\n",
    "            col_array[loc+1:next_index] = next_segment\n",
    "\n",
    "        # create new_lst\n",
    "        for j,val in enumerate(col_array):\n",
    "            new_lst[j] += val\n",
    "\n",
    "    return new_lst"
   ]
  },
  {
   "cell_type": "markdown",
   "id": "c7d309c4",
   "metadata": {},
   "source": [
    "Function to calculate total_load"
   ]
  },
  {
   "cell_type": "code",
   "execution_count": 4,
   "id": "2059ad83",
   "metadata": {},
   "outputs": [],
   "source": [
    "def total_load(input_lst):\n",
    "    # calculate total_load\n",
    "    total_load = 0\n",
    "    for i,row in enumerate(input_lst):\n",
    "        row_array = np.array([j for j in row])\n",
    "        num_rounds = (row_array==\"O\").sum()\n",
    "        load_multiplier = len(input_lst) - i\n",
    "        load_addition = load_multiplier * num_rounds\n",
    "        total_load += load_addition\n",
    "        \n",
    "    print(f\"The total load: {total_load}\")"
   ]
  },
  {
   "cell_type": "markdown",
   "id": "7b027b8d",
   "metadata": {},
   "source": [
    "Test function with given test condition"
   ]
  },
  {
   "cell_type": "code",
   "execution_count": 5,
   "id": "8c1a3ca4",
   "metadata": {
    "scrolled": true
   },
   "outputs": [
    {
     "data": {
      "text/plain": [
       "['OOOO.#.O..',\n",
       " 'OO..#....#',\n",
       " 'OO..O##..O',\n",
       " 'O..#.OO...',\n",
       " '........#.',\n",
       " '..#....#.#',\n",
       " '..O..#.O.O',\n",
       " '..O.......',\n",
       " '#....###..',\n",
       " '#....#....']"
      ]
     },
     "metadata": {},
     "output_type": "display_data"
    },
    {
     "name": "stdout",
     "output_type": "stream",
     "text": [
      "The total load: 136\n"
     ]
    }
   ],
   "source": [
    "new_lst = tilt_north(test_lst)\n",
    "display(new_lst)\n",
    "total_load(new_lst)"
   ]
  },
  {
   "cell_type": "markdown",
   "id": "01675fa0",
   "metadata": {},
   "source": [
    "Solve with puzzle input for part 1 "
   ]
  },
  {
   "cell_type": "code",
   "execution_count": 6,
   "id": "d644286b",
   "metadata": {},
   "outputs": [
    {
     "data": {
      "text/plain": [
       "'...OO..##.......O..O....O..O#...O.OO#.#..O...O....OOO##..O##O#...#..O....#........#O.##O#..OO#..OO.O'"
      ]
     },
     "execution_count": 6,
     "metadata": {},
     "output_type": "execute_result"
    }
   ],
   "source": [
    "part_1_lst = get_data(day=14).split(\"\\n\")\n",
    "part_1_lst[0]"
   ]
  },
  {
   "cell_type": "code",
   "execution_count": 7,
   "id": "da9d6fe5",
   "metadata": {},
   "outputs": [
    {
     "name": "stdout",
     "output_type": "stream",
     "text": [
      "The total load: 108955\n"
     ]
    }
   ],
   "source": [
    "new_lst = tilt_north(part_1_lst)\n",
    "total_load(new_lst)"
   ]
  },
  {
   "cell_type": "markdown",
   "id": "32cd576e",
   "metadata": {},
   "source": [
    "# Part 2"
   ]
  },
  {
   "cell_type": "markdown",
   "id": "2bea9d03",
   "metadata": {},
   "source": [
    "Create functions for other tilt directions"
   ]
  },
  {
   "cell_type": "code",
   "execution_count": 8,
   "id": "ba08c8ba",
   "metadata": {},
   "outputs": [
    {
     "data": {
      "text/plain": [
       "['.....#....',\n",
       " '....#....#',\n",
       " '...O.##...',\n",
       " '...#......',\n",
       " 'O.O....O#O',\n",
       " 'O.#..O.#.#',\n",
       " 'O....#....',\n",
       " 'OO....OO..',\n",
       " '#OO..###..',\n",
       " '#OO.O#...O']"
      ]
     },
     "execution_count": 8,
     "metadata": {},
     "output_type": "execute_result"
    }
   ],
   "source": [
    "def tilt_south(input_lst=test_lst):\n",
    "    input_lst = input_lst[::-1]\n",
    "    new_lst = tilt_north(input_lst)\n",
    "    new_lst = new_lst[::-1]\n",
    "    return new_lst\n",
    "tilt_south()"
   ]
  },
  {
   "cell_type": "code",
   "execution_count": 9,
   "id": "f53ed5b2",
   "metadata": {},
   "outputs": [
    {
     "data": {
      "text/plain": [
       "['O....#....',\n",
       " 'OOO.#....#',\n",
       " '.....##...',\n",
       " 'OO.#OO....',\n",
       " 'OO......#.',\n",
       " 'O.#O...#.#',\n",
       " 'O....#OO..',\n",
       " 'O.........',\n",
       " '#....###..',\n",
       " '#OO..#....']"
      ]
     },
     "execution_count": 9,
     "metadata": {},
     "output_type": "execute_result"
    }
   ],
   "source": [
    "def tilt_west(input_lst=test_lst):\n",
    "    new_lst = [\"\" for row in input_lst]\n",
    "    # loop through each row\n",
    "    for i,row in enumerate(input_lst):\n",
    "        row_lst = [j for j in row]\n",
    "        row_array = np.array(row_lst)\n",
    "        \n",
    "        # find indexes of cube-shaped rocks (\"#\" character)\n",
    "        cube_locs = np.where(row_array==\"#\")[0]\n",
    "\n",
    "        # find number of rounded rocks between cubes\n",
    "        if len(cube_locs) == 0:\n",
    "            next_index = len(row_array)\n",
    "        else:\n",
    "            next_index = cube_locs[0]\n",
    "        first_segment = row_array[0:next_index]\n",
    "\n",
    "        # re-arrange first segment (segments are sections of \"O\" and \".\" chars between \"#\"s)\n",
    "        first_segment.sort()\n",
    "        first_segment = np.flip(first_segment)\n",
    "        row_array[0:next_index] = first_segment\n",
    "\n",
    "        # rearrange remaining segments\n",
    "        for j,loc in enumerate(cube_locs):\n",
    "            if j+1 == len(cube_locs):\n",
    "                next_index = len(row_array)\n",
    "            else:\n",
    "                next_index = cube_locs[j+1]\n",
    "            next_segment = row_array[loc+1:next_index]\n",
    "            next_segment.sort()\n",
    "            next_segment = np.flip(next_segment)\n",
    "            row_array[loc+1:next_index] = next_segment\n",
    "            \n",
    "        for j in row_array:\n",
    "            new_lst[i] += j\n",
    "            \n",
    "    return new_lst\n",
    "            \n",
    "tilt_west()"
   ]
  },
  {
   "cell_type": "code",
   "execution_count": 10,
   "id": "b909791d",
   "metadata": {},
   "outputs": [
    {
     "data": {
      "text/plain": [
       "['....O#....',\n",
       " '.OOO#....#',\n",
       " '.....##...',\n",
       " '.OO#....OO',\n",
       " '......OO#.',\n",
       " '.O#...O#.#',\n",
       " '....O#..OO',\n",
       " '.........O',\n",
       " '#....###..',\n",
       " '#..OO#....']"
      ]
     },
     "execution_count": 10,
     "metadata": {},
     "output_type": "execute_result"
    }
   ],
   "source": [
    "def tilt_east(input_lst=test_lst):\n",
    "    new_lst = [row[::-1] for row in input_lst]\n",
    "    new_lst = tilt_west(new_lst)\n",
    "    new_lst = [row[::-1] for row in new_lst]\n",
    "    return new_lst\n",
    "\n",
    "tilt_east()"
   ]
  },
  {
   "cell_type": "markdown",
   "id": "c4a2731e",
   "metadata": {},
   "source": [
    "Define cycle function"
   ]
  },
  {
   "cell_type": "code",
   "execution_count": 11,
   "id": "36ab5f73",
   "metadata": {},
   "outputs": [
    {
     "data": {
      "text/plain": [
       "['.....#....',\n",
       " '....#...O#',\n",
       " '...OO##...',\n",
       " '.OO#......',\n",
       " '.....OOO#.',\n",
       " '.O#...O#.#',\n",
       " '....O#....',\n",
       " '......OOOO',\n",
       " '#...O###..',\n",
       " '#..OO#....']"
      ]
     },
     "execution_count": 11,
     "metadata": {},
     "output_type": "execute_result"
    }
   ],
   "source": [
    "def spin_cycle(input_lst=test_lst):\n",
    "    new_lst = tilt_north(input_lst)\n",
    "#     print(\"After north:\")\n",
    "#     display(new_lst)\n",
    "    new_lst = tilt_west(new_lst)\n",
    "#     print(\"After west:\")\n",
    "#     display(new_lst)\n",
    "    new_lst = tilt_south(new_lst)\n",
    "#     print(\"After south\")\n",
    "#     display(new_lst)\n",
    "    new_lst = tilt_east(new_lst)\n",
    "#     print(\"After east (final)\")\n",
    "#     display(new_lst)\n",
    "    return new_lst\n",
    "\n",
    "spin_cycle()"
   ]
  },
  {
   "cell_type": "markdown",
   "id": "8a3a726a",
   "metadata": {},
   "source": [
    "Define spin_cycles function to simulate multiple spin cycles"
   ]
  },
  {
   "cell_type": "code",
   "execution_count": 12,
   "id": "43041df4",
   "metadata": {},
   "outputs": [
    {
     "data": {
      "text/plain": [
       "['.....#....',\n",
       " '....#...O#',\n",
       " '.....##...',\n",
       " '..O#......',\n",
       " '.....OOO#.',\n",
       " '.O#...O#.#',\n",
       " '....O#...O',\n",
       " '.......OOO',\n",
       " '#...O###.O',\n",
       " '#.OOO#...O']"
      ]
     },
     "execution_count": 12,
     "metadata": {},
     "output_type": "execute_result"
    }
   ],
   "source": [
    "def spin_cycles(n, input_lst=test_lst):\n",
    "    new_lst = spin_cycle(input_lst)\n",
    "    for i in range(n-1):\n",
    "        new_lst = spin_cycle(new_lst)\n",
    "#         if (i+2 % 10) == 0:\n",
    "#             print(i+2)\n",
    "#         print(i+2)\n",
    "    return(new_lst)\n",
    "    \n",
    "spin_cycles(3)"
   ]
  },
  {
   "cell_type": "markdown",
   "id": "a2b85dc5",
   "metadata": {},
   "source": [
    "Complete part 2 test case"
   ]
  },
  {
   "cell_type": "markdown",
   "id": "16be6500",
   "metadata": {},
   "source": [
    "It will take too long to simply loop through 1000000000 times. Perhaps there is a period of repitition where it gets into an endless cycle that we can then extrapolate on and only run the last so many times."
   ]
  },
  {
   "cell_type": "code",
   "execution_count": 13,
   "id": "9727c0a1",
   "metadata": {},
   "outputs": [
    {
     "name": "stdout",
     "output_type": "stream",
     "text": [
      "10\n"
     ]
    },
    {
     "data": {
      "text/plain": [
       "['.....#....',\n",
       " '....#...O#',\n",
       " '.....##...',\n",
       " '..O#......',\n",
       " '.....OOO#.',\n",
       " '.O#...O#.#',\n",
       " '....O#...O',\n",
       " '.......OOO',\n",
       " '#...O###.O',\n",
       " '#.OOO#...O']"
      ]
     },
     "execution_count": 13,
     "metadata": {},
     "output_type": "execute_result"
    }
   ],
   "source": [
    "past_lsts = [test_lst]\n",
    "new_lst = spin_cycle(test_lst)\n",
    "# display(new_lst)\n",
    "cycles = 1\n",
    "while new_lst not in past_lsts:\n",
    "    past_lsts.append(new_lst)\n",
    "    new_lst = spin_cycle(new_lst)\n",
    "#     display(new_lst)\n",
    "    cycles+=1\n",
    "\n",
    "print(cycles)\n",
    "new_lst"
   ]
  },
  {
   "cell_type": "markdown",
   "id": "1208dca7",
   "metadata": {},
   "source": [
    "It took 10 cycles to find repeating pattern and you start over at 11"
   ]
  },
  {
   "cell_type": "code",
   "execution_count": 14,
   "id": "8f1b4de7",
   "metadata": {},
   "outputs": [
    {
     "data": {
      "text/plain": [
       "3"
      ]
     },
     "execution_count": 14,
     "metadata": {},
     "output_type": "execute_result"
    }
   ],
   "source": [
    "past_lsts.index(new_lst)"
   ]
  },
  {
   "cell_type": "markdown",
   "id": "2a82efc4",
   "metadata": {},
   "source": [
    "The pattern started at 3rd cycle. We can therefore calculate how many cycles to run based on a period of 8 starting after 10 cycles."
   ]
  },
  {
   "cell_type": "code",
   "execution_count": 15,
   "id": "7d2e1f4b",
   "metadata": {},
   "outputs": [
    {
     "data": {
      "text/plain": [
       "3"
      ]
     },
     "execution_count": 15,
     "metadata": {},
     "output_type": "execute_result"
    }
   ],
   "source": [
    "(1000000000-3) % 7"
   ]
  },
  {
   "cell_type": "markdown",
   "id": "8fd45ead",
   "metadata": {},
   "source": [
    "We will therefore only have to run 3 times after getting back around to beginning of repeating pattern"
   ]
  },
  {
   "cell_type": "code",
   "execution_count": 16,
   "id": "69ec6751",
   "metadata": {},
   "outputs": [
    {
     "name": "stdout",
     "output_type": "stream",
     "text": [
      "The total load: 64\n"
     ]
    }
   ],
   "source": [
    "new_lst = spin_cycles(3,test_lst)\n",
    "final_lst = spin_cycles(3,new_lst)\n",
    "total_load(final_lst)"
   ]
  },
  {
   "cell_type": "markdown",
   "id": "b13476dc",
   "metadata": {},
   "source": [
    "Solve part 2"
   ]
  },
  {
   "cell_type": "code",
   "execution_count": 17,
   "id": "a2561153",
   "metadata": {},
   "outputs": [
    {
     "name": "stdout",
     "output_type": "stream",
     "text": [
      "107\n"
     ]
    }
   ],
   "source": [
    "past_lsts = [part_1_lst]\n",
    "new_lst = spin_cycle(part_1_lst)\n",
    "# display(new_lst)\n",
    "cycles = 1\n",
    "while new_lst not in past_lsts:\n",
    "    past_lsts.append(new_lst)\n",
    "    new_lst = spin_cycle(new_lst)\n",
    "#     display(new_lst)\n",
    "    cycles+=1\n",
    "\n",
    "print(cycles)"
   ]
  },
  {
   "cell_type": "code",
   "execution_count": 18,
   "id": "eb16335a",
   "metadata": {},
   "outputs": [
    {
     "data": {
      "text/plain": [
       "85"
      ]
     },
     "execution_count": 18,
     "metadata": {},
     "output_type": "execute_result"
    }
   ],
   "source": [
    "past_lsts.index(new_lst)"
   ]
  },
  {
   "cell_type": "code",
   "execution_count": 19,
   "id": "00480976",
   "metadata": {},
   "outputs": [
    {
     "data": {
      "text/plain": [
       "13"
      ]
     },
     "execution_count": 19,
     "metadata": {},
     "output_type": "execute_result"
    }
   ],
   "source": [
    "(1000000000-107) % 22"
   ]
  },
  {
   "cell_type": "code",
   "execution_count": 20,
   "id": "ab0e9816",
   "metadata": {},
   "outputs": [
    {
     "name": "stdout",
     "output_type": "stream",
     "text": [
      "The total load: 106689\n"
     ]
    }
   ],
   "source": [
    "new_lst = spin_cycles(85,part_1_lst)\n",
    "final_lst = spin_cycles(13,new_lst)\n",
    "total_load(final_lst)"
   ]
  }
 ],
 "metadata": {
  "kernelspec": {
   "display_name": "Python 3",
   "language": "python",
   "name": "python3"
  },
  "language_info": {
   "codemirror_mode": {
    "name": "ipython",
    "version": 3
   },
   "file_extension": ".py",
   "mimetype": "text/x-python",
   "name": "python",
   "nbconvert_exporter": "python",
   "pygments_lexer": "ipython3",
   "version": "3.8.8"
  }
 },
 "nbformat": 4,
 "nbformat_minor": 5
}
