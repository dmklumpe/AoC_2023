{
 "cells": [
  {
   "cell_type": "markdown",
   "id": "255b460b",
   "metadata": {},
   "source": [
    "# Part 1\n",
    "## Make function to grab data"
   ]
  },
  {
   "cell_type": "code",
   "execution_count": 11,
   "id": "4bb6090c",
   "metadata": {},
   "outputs": [
    {
     "data": {
      "text/plain": [
       "[['3 blue, 4 red', '1 red, 2 green, 6 blue', '2 green'],\n",
       " ['1 blue, 2 green', '3 green, 4 blue, 1 red', '1 green, 1 blue'],\n",
       " ['8 green, 6 blue, 20 red', '5 blue, 4 red, 13 green', '5 green, 1 red'],\n",
       " ['1 green, 3 red, 6 blue', '3 green, 6 red', '3 green, 15 blue, 14 red'],\n",
       " ['6 red, 1 blue, 3 green', '2 blue, 1 red, 2 green']]"
      ]
     },
     "execution_count": 11,
     "metadata": {},
     "output_type": "execute_result"
    }
   ],
   "source": [
    "def get_data(filepath = \"test_data.txt\"):\n",
    "    file = open(filepath)\n",
    "    file_str = file.read()\n",
    "    file_lst = file_str.split(\"\\n\")\n",
    "    output = []\n",
    "    for i in file_lst:\n",
    "        i_lst = i.split(\": \")\n",
    "        game_lst = i_lst[1].split(\"; \")\n",
    "        output.append(game_lst)\n",
    "    return output\n",
    "test_data = get_data()\n",
    "test_data"
   ]
  },
  {
   "cell_type": "markdown",
   "id": "00c06929",
   "metadata": {},
   "source": [
    "## Make function to complete part 1"
   ]
  },
  {
   "cell_type": "code",
   "execution_count": 62,
   "id": "cde5e050",
   "metadata": {},
   "outputs": [],
   "source": [
    "def check_games(data=test_data,lims=[12,13,14],test=False):\n",
    "    possible_id_sum = 0 # sum of IDs that are impossible\n",
    "    for i,game in enumerate(data):\n",
    "        if test:\n",
    "            print(f\"==========Game {i+1}==========\")\n",
    "        check_complete = False\n",
    "        for j,rnd in enumerate(game):\n",
    "            pulls = rnd.split(\", \")\n",
    "            for pull in pulls:\n",
    "                pull_lst = pull.split(\" \")\n",
    "                num = int(pull_lst[0])\n",
    "                color = pull_lst[1]\n",
    "                if (color==\"red\" and num > lims[0]) or (color==\"green\" and num > lims[1]) or (color==\"blue\" and num > lims[2]):\n",
    "                    check_complete = True\n",
    "                    if test:\n",
    "                        print(f\"Game {i+1} is impossile due to number of {color} cubes: {num}\")\n",
    "                    break\n",
    "            if check_complete:\n",
    "                break\n",
    "        if  not check_complete:\n",
    "            possible_id_sum += i+1\n",
    "            if test:\n",
    "                print(f\"This game is possible! {possible_id_sum=}\")\n",
    "    return possible_id_sum"
   ]
  },
  {
   "cell_type": "markdown",
   "id": "a7aa25ca",
   "metadata": {},
   "source": [
    "Test part 1"
   ]
  },
  {
   "cell_type": "code",
   "execution_count": 65,
   "id": "0f61ed97",
   "metadata": {
    "scrolled": true
   },
   "outputs": [
    {
     "name": "stdout",
     "output_type": "stream",
     "text": [
      "==========Game 1==========\n",
      "This game is possible! possible_id_sum=1\n",
      "==========Game 2==========\n",
      "This game is possible! possible_id_sum=3\n",
      "==========Game 3==========\n",
      "Game 3 is impossile due to number of red cubes: 20\n",
      "==========Game 4==========\n",
      "Game 4 is impossile due to number of blue cubes: 15\n",
      "==========Game 5==========\n",
      "This game is possible! possible_id_sum=8\n"
     ]
    },
    {
     "data": {
      "text/plain": [
       "8"
      ]
     },
     "execution_count": 65,
     "metadata": {},
     "output_type": "execute_result"
    }
   ],
   "source": [
    "check_games(test=True)"
   ]
  },
  {
   "cell_type": "markdown",
   "id": "8ebcf526",
   "metadata": {},
   "source": [
    "Complete part 1"
   ]
  },
  {
   "cell_type": "code",
   "execution_count": 67,
   "id": "448f0ed4",
   "metadata": {
    "scrolled": true
   },
   "outputs": [
    {
     "data": {
      "text/plain": [
       "2771"
      ]
     },
     "execution_count": 67,
     "metadata": {},
     "output_type": "execute_result"
    }
   ],
   "source": [
    "check_games(get_data(\"data.txt\"))"
   ]
  },
  {
   "cell_type": "markdown",
   "id": "8c51ffd4",
   "metadata": {},
   "source": [
    "# Part 2\n",
    "## Make function to complete part 2"
   ]
  },
  {
   "cell_type": "code",
   "execution_count": 71,
   "id": "88dab5cc",
   "metadata": {},
   "outputs": [],
   "source": [
    "def check_game_power(data=test_data,test=False):\n",
    "    power_sum = 0 # sum of IDs that are impossible\n",
    "    for i,game in enumerate(data):\n",
    "        max_red = 0\n",
    "        max_green = 0\n",
    "        max_blue = 0\n",
    "        if test:\n",
    "            print(f\"==========Game {i+1}==========\")\n",
    "        for j,rnd in enumerate(game):\n",
    "            pulls = rnd.split(\", \")\n",
    "            for pull in pulls:\n",
    "                pull_lst = pull.split(\" \")\n",
    "                num = int(pull_lst[0])\n",
    "                color = pull_lst[1]\n",
    "                if color == \"red\":\n",
    "                    if num > max_red:\n",
    "                        max_red = num\n",
    "                elif color == \"green\":\n",
    "                    if num > max_green:\n",
    "                        max_green = num\n",
    "                else:\n",
    "                    if num > max_blue:\n",
    "                        max_blue = num\n",
    "        power = max_red*max_green*max_blue\n",
    "        power_sum += power\n",
    "        if test:\n",
    "            print(f\"After Game {i+1}: {power=}; {power_sum=}\")\n",
    "    return power_sum"
   ]
  },
  {
   "cell_type": "markdown",
   "id": "1f5744c8",
   "metadata": {},
   "source": [
    "Test part 2"
   ]
  },
  {
   "cell_type": "code",
   "execution_count": 72,
   "id": "36f58b46",
   "metadata": {},
   "outputs": [
    {
     "name": "stdout",
     "output_type": "stream",
     "text": [
      "==========Game 1==========\n",
      "After Game 1: power=48; power_sum=48\n",
      "==========Game 2==========\n",
      "After Game 2: power=12; power_sum=60\n",
      "==========Game 3==========\n",
      "After Game 3: power=1560; power_sum=1620\n",
      "==========Game 4==========\n",
      "After Game 4: power=630; power_sum=2250\n",
      "==========Game 5==========\n",
      "After Game 5: power=36; power_sum=2286\n"
     ]
    },
    {
     "data": {
      "text/plain": [
       "2286"
      ]
     },
     "execution_count": 72,
     "metadata": {},
     "output_type": "execute_result"
    }
   ],
   "source": [
    "check_game_power(test_data,True)"
   ]
  },
  {
   "cell_type": "markdown",
   "id": "9dd0ce85",
   "metadata": {},
   "source": [
    "Complete part 2"
   ]
  },
  {
   "cell_type": "code",
   "execution_count": 74,
   "id": "e6e993eb",
   "metadata": {},
   "outputs": [
    {
     "data": {
      "text/plain": [
       "70924"
      ]
     },
     "execution_count": 74,
     "metadata": {},
     "output_type": "execute_result"
    }
   ],
   "source": [
    "check_game_power(get_data(\"data.txt\"))"
   ]
  },
  {
   "cell_type": "code",
   "execution_count": null,
   "id": "5fdb7553",
   "metadata": {},
   "outputs": [],
   "source": []
  }
 ],
 "metadata": {
  "kernelspec": {
   "display_name": "Python 3",
   "language": "python",
   "name": "python3"
  },
  "language_info": {
   "codemirror_mode": {
    "name": "ipython",
    "version": 3
   },
   "file_extension": ".py",
   "mimetype": "text/x-python",
   "name": "python",
   "nbconvert_exporter": "python",
   "pygments_lexer": "ipython3",
   "version": "3.8.8"
  }
 },
 "nbformat": 4,
 "nbformat_minor": 5
}
