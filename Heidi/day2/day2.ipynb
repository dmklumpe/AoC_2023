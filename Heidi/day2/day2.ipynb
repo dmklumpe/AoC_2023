{
 "cells": [
  {
   "cell_type": "code",
   "execution_count": 26,
   "id": "e188c79a-3a8a-403c-b5e9-e35d4b51be99",
   "metadata": {},
   "outputs": [],
   "source": [
    "import numpy as np\n",
    "from collections import defaultdict"
   ]
  },
  {
   "cell_type": "code",
   "execution_count": 2,
   "id": "a03aeb50-be57-41d5-bd48-7fcdf0087ecc",
   "metadata": {},
   "outputs": [],
   "source": [
    "with open('input.txt','r') as f:\n",
    "    input = f.readlines()"
   ]
  },
  {
   "cell_type": "markdown",
   "id": "e5b19aa4-04ff-46ee-a2ee-48f5d6edc577",
   "metadata": {},
   "source": [
    "## Part 1\n",
    "Impossible games have more than the maximum number of red, green, or blue cubes."
   ]
  },
  {
   "cell_type": "code",
   "execution_count": 17,
   "id": "9e7c3a31-33c5-4698-96eb-1ec38a77a5c3",
   "metadata": {},
   "outputs": [],
   "source": [
    "colors = ['red','green','blue']\n",
    "\n",
    "max_color = np.zeros((len(input), len(colors)))\n",
    "\n",
    "for g, game in enumerate(input):\n",
    "\n",
    "    game = game.split(':')[-1]\n",
    "\n",
    "    for c, color in enumerate(colors):\n",
    "        max_color[g,c] = np.max([int(chunk.split(',')[-1].split(';')[-1]) for chunk in game.split(color)[:-1]])"
   ]
  },
  {
   "cell_type": "code",
   "execution_count": 24,
   "id": "2d37c9e5-6325-40f3-8191-d21d1815e566",
   "metadata": {},
   "outputs": [],
   "source": [
    "possible = (max_color[:,0] < 13) & (max_color[:,1] < 14) & (max_color[:,2] < 15)"
   ]
  },
  {
   "cell_type": "code",
   "execution_count": 25,
   "id": "ed25aa54-bcff-46ab-911f-8bba09254321",
   "metadata": {},
   "outputs": [
    {
     "data": {
      "text/plain": [
       "1734"
      ]
     },
     "execution_count": 25,
     "metadata": {},
     "output_type": "execute_result"
    }
   ],
   "source": [
    "np.sum(np.where(possible)[0] + 1)"
   ]
  },
  {
   "cell_type": "markdown",
   "id": "9bae58f4-9f4c-4f76-a39b-358cdb7f0d58",
   "metadata": {},
   "source": [
    "## Part 2"
   ]
  },
  {
   "cell_type": "code",
   "execution_count": 29,
   "id": "87c16f4a-91bc-495c-84dd-04d3de62ba45",
   "metadata": {},
   "outputs": [
    {
     "data": {
      "text/plain": [
       "70387.0"
      ]
     },
     "execution_count": 29,
     "metadata": {},
     "output_type": "execute_result"
    }
   ],
   "source": [
    "power = np.prod(max_color, axis=1)\n",
    "np.sum(power)"
   ]
  }
 ],
 "metadata": {
  "kernelspec": {
   "display_name": "Python 3 (ipykernel)",
   "language": "python",
   "name": "python3"
  },
  "language_info": {
   "codemirror_mode": {
    "name": "ipython",
    "version": 3
   },
   "file_extension": ".py",
   "mimetype": "text/x-python",
   "name": "python",
   "nbconvert_exporter": "python",
   "pygments_lexer": "ipython3",
   "version": "3.10.12"
  }
 },
 "nbformat": 4,
 "nbformat_minor": 5
}
