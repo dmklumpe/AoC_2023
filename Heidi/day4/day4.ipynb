{
 "cells": [
  {
   "cell_type": "code",
   "execution_count": 38,
   "id": "474e134f-8459-4fb7-8d28-f1a5824196e3",
   "metadata": {},
   "outputs": [],
   "source": [
    "import numpy as np\n",
    "import re"
   ]
  },
  {
   "cell_type": "code",
   "execution_count": 47,
   "id": "95f81b65-a775-4204-b70c-39c4663e633f",
   "metadata": {},
   "outputs": [],
   "source": [
    "with open('input.txt','r') as f:\n",
    "    input = f.read().splitlines()"
   ]
  },
  {
   "cell_type": "code",
   "execution_count": 48,
   "id": "5b8b2cf4-92aa-49d8-acbc-2abef9af724f",
   "metadata": {},
   "outputs": [
    {
     "data": {
      "text/plain": [
       "['Card   1: 69 12 75 19 83 56 73 53 52 91 | 83 63 56 30 77 94 12 81 42 69 52 70  6 97 20 43 61 22 75 19 73 32 74 53 91',\n",
       " 'Card   2: 23 55 24 84 90 10 87 73 74 45 | 20 66 51 78  9 76 86 96 72 70 84 35 74 90 56 55 23 38 58 45 87  2 80  8 10',\n",
       " 'Card   3: 70 32 38 23 86 54 26 16  9  1 | 67 50 39 70 59 77 63 30  3 45 23 16 72  1 86  7  9 32 26 68 38 54 65 34 64',\n",
       " 'Card   4: 33 50 19 63 92  1 58 34 84  8 | 35 61 49 86 40 20 22 71 84 51 64 62 33 85 45  3 54 83  1 29 82 19 92  8 11',\n",
       " 'Card   5: 74  9 54 83 22 15 81 64 47 70 | 21 74 59 85 17 36  5 79 87  7 13 23 47 45 96 29 68 65  3 22  4 34 46 90 40']"
      ]
     },
     "execution_count": 48,
     "metadata": {},
     "output_type": "execute_result"
    }
   ],
   "source": [
    "input[:5]"
   ]
  },
  {
   "cell_type": "markdown",
   "id": "4973c41f-c554-4102-b13e-c417affbed7e",
   "metadata": {},
   "source": [
    "## Part 1\n",
    "Use set intersections to find the numbers common on either side of the pipe. Use what we learned about regex splitting (D:) to get the numbers out as efficiently as possible."
   ]
  },
  {
   "cell_type": "code",
   "execution_count": 49,
   "id": "c23817df-0f7e-4a4a-862f-84cf0ed2091d",
   "metadata": {},
   "outputs": [],
   "source": [
    "winning_numbers = []\n",
    "for line in input:\n",
    "    numbers = line.split(':')[-1]\n",
    "    card_numbers = set([int(num) for num in re.split(' +', numbers.split('|')[0].strip(' '))])\n",
    "    my_numbers = set([int(num) for num in re.split(' +', numbers.split('|')[1].strip(' '))])\n",
    "\n",
    "    winning_numbers += [card_numbers.intersection(my_numbers),]"
   ]
  },
  {
   "cell_type": "code",
   "execution_count": 50,
   "id": "8a9a4756-e996-41c9-afab-a6ff1ba6aab0",
   "metadata": {},
   "outputs": [
    {
     "data": {
      "text/plain": [
       "25231"
      ]
     },
     "execution_count": 50,
     "metadata": {},
     "output_type": "execute_result"
    }
   ],
   "source": [
    "n_matches = np.array([len(wn) for wn in winning_numbers])\n",
    "\n",
    "# Keep only matches, subtract 1 to get power of 2\n",
    "np.sum(2**(n_matches[n_matches > 0]-1))"
   ]
  },
  {
   "cell_type": "markdown",
   "id": "e0b911ca-c8ec-4e10-8e50-7de0f612f743",
   "metadata": {},
   "source": [
    "## Part 2\n",
    "How many cards? Use the number of matches to keep track."
   ]
  },
  {
   "cell_type": "code",
   "execution_count": 52,
   "id": "bdbf08a6-1250-4bea-88f0-60ed63d640bf",
   "metadata": {},
   "outputs": [
    {
     "data": {
      "text/plain": [
       "9721255"
      ]
     },
     "execution_count": 52,
     "metadata": {},
     "output_type": "execute_result"
    }
   ],
   "source": [
    "# Start with 1 copy of all cards\n",
    "card_numbers = np.ones(len(winning_numbers),dtype=int)\n",
    "\n",
    "for card_number, n_match in enumerate(n_matches):\n",
    "    # Increment the number of future cards by the number of the current card\n",
    "    card_numbers[card_number+1:card_number+1+n_match] += card_numbers[card_number]\n",
    "\n",
    "np.sum(card_numbers)"
   ]
  },
  {
   "cell_type": "code",
   "execution_count": null,
   "id": "a57f865b-a7d4-4047-946c-99d5e88ca557",
   "metadata": {},
   "outputs": [],
   "source": []
  }
 ],
 "metadata": {
  "kernelspec": {
   "display_name": "Python 3 (ipykernel)",
   "language": "python",
   "name": "python3"
  },
  "language_info": {
   "codemirror_mode": {
    "name": "ipython",
    "version": 3
   },
   "file_extension": ".py",
   "mimetype": "text/x-python",
   "name": "python",
   "nbconvert_exporter": "python",
   "pygments_lexer": "ipython3",
   "version": "3.10.12"
  }
 },
 "nbformat": 4,
 "nbformat_minor": 5
}
