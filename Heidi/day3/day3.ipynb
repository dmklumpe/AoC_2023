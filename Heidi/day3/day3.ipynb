{
 "cells": [
  {
   "cell_type": "code",
   "execution_count": 1,
   "id": "883e1a09-52d7-4054-a381-1394795679e0",
   "metadata": {},
   "outputs": [],
   "source": [
    "import numpy as np\n",
    "import re"
   ]
  },
  {
   "cell_type": "markdown",
   "id": "5c3d4109-b6b4-4901-b160-b1623e40e535",
   "metadata": {},
   "source": [
    "## Part 1\n",
    "Idea 1: rewrite engine diagram with integers, so I can use numpy to do fancy maths on the entire engine diagram at once."
   ]
  },
  {
   "cell_type": "code",
   "execution_count": 50,
   "id": "0a1b8f2b-b6c3-42a1-8afc-d3f124bbb40c",
   "metadata": {},
   "outputs": [
    {
     "name": "stdout",
     "output_type": "stream",
     "text": [
      "Input has 140 rows, with 140 chars each.\n",
      "Unique characters: ['#' '$' '%' '&' '*' '+' '-' '.' '/' '0' '1' '2' '3' '4' '5' '6' '7' '8'\n",
      " '9' '=' '@']\n"
     ]
    }
   ],
   "source": [
    "with open('input.txt','r') as f:\n",
    "    input = f.read().splitlines()\n",
    "\n",
    "print(f'Input has {len(input)} rows, with {len(input[0])} chars each.')\n",
    "\n",
    "unique_chars = np.unique([char for char in ''.join(input)])\n",
    "print(f'Unique characters: {unique_chars}')"
   ]
  },
  {
   "cell_type": "code",
   "execution_count": 51,
   "id": "80ecdd00-1b23-443f-954e-72833315f08e",
   "metadata": {},
   "outputs": [],
   "source": [
    "input_as_array = -1*np.ones((len(input), len(input[0])),dtype=int)\n",
    "\n",
    "for l, line in enumerate(input):\n",
    "\n",
    "    for c, char in enumerate(line):\n",
    "        if char.isdigit():\n",
    "            input_as_array[l,c] = int(char)\n",
    "        elif char=='.':\n",
    "            input_as_array[l,c] = 0"
   ]
  },
  {
   "cell_type": "markdown",
   "id": "037df6c7-af9b-4464-8398-7ffcd452e232",
   "metadata": {},
   "source": [
    "New approach! Slice out the border, check for unique characters."
   ]
  },
  {
   "cell_type": "code",
   "execution_count": 52,
   "id": "3c8077e8-8ec1-4cc4-a03a-819b330a3609",
   "metadata": {},
   "outputs": [],
   "source": [
    "n_lines = len(input)\n",
    "n_char = len(input[0])\n",
    "\n",
    "num_list = []\n",
    "part_numbers = []\n",
    "\n",
    "# For each line of input\n",
    "for l, line in enumerate(input):\n",
    "    \n",
    "    # Check out numbers (split by periods, remove special characters, keep only those that are numbers)\n",
    "    ## 2 BIG PROBLEMS:\n",
    "        # sometimes special characters are between numbers -> need betters split\n",
    "        # sometimes some numbers are subset of others - can't just use the find method to get the correct index UGH\n",
    "    for res in re.finditer('[0-9]+',line):\n",
    "\n",
    "        num = res.group()\n",
    "        i = res.start()\n",
    "        length = len(num)\n",
    "\n",
    "        # Get border\n",
    "        if l > 0:\n",
    "            if i > 0:\n",
    "                top = input[l-1][i-1:i+length+1]\n",
    "            else:\n",
    "                top = input[l-1][:length+1]\n",
    "        else:\n",
    "            top = ''\n",
    "    \n",
    "        if l < (n_lines - 1):\n",
    "            if i > 0:\n",
    "                bottom = input[l+1][i-1:i+length+1]\n",
    "            else:\n",
    "                bottom = input[l+1][:length+1]\n",
    "        else:\n",
    "            bottom = ''\n",
    "            \n",
    "        if i > 0:\n",
    "            left = input[l][i-1]\n",
    "        else:\n",
    "            left = ''\n",
    "    \n",
    "        if i + length < n_char:\n",
    "            right = input[l][i+length]\n",
    "        else:\n",
    "            right = ''\n",
    "\n",
    "        # print(f'{top}\\n{left}{num}{right}\\n{bottom}\\n')\n",
    "        border = ''.join((left,top,right,bottom))\n",
    "        num_list += [(num, border)]\n",
    "    \n",
    "        # Part numbers have more than one character type in their border\n",
    "        if len(set(border)) > 1:\n",
    "            part_numbers += [int(num),]"
   ]
  },
  {
   "cell_type": "code",
   "execution_count": 53,
   "id": "272577ed-8b58-4368-bd9e-6cccf0413216",
   "metadata": {},
   "outputs": [
    {
     "data": {
      "text/plain": [
       "533775"
      ]
     },
     "execution_count": 53,
     "metadata": {},
     "output_type": "execute_result"
    }
   ],
   "source": [
    "np.sum(part_numbers)"
   ]
  },
  {
   "cell_type": "code",
   "execution_count": null,
   "id": "f5f47d83-0415-44c4-aba1-cd3dc1ccd87d",
   "metadata": {},
   "outputs": [],
   "source": []
  }
 ],
 "metadata": {
  "kernelspec": {
   "display_name": "Python 3 (ipykernel)",
   "language": "python",
   "name": "python3"
  },
  "language_info": {
   "codemirror_mode": {
    "name": "ipython",
    "version": 3
   },
   "file_extension": ".py",
   "mimetype": "text/x-python",
   "name": "python",
   "nbconvert_exporter": "python",
   "pygments_lexer": "ipython3",
   "version": "3.10.12"
  }
 },
 "nbformat": 4,
 "nbformat_minor": 5
}
