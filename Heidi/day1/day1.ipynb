{
 "cells": [
  {
   "cell_type": "code",
   "execution_count": 1,
   "id": "77016722-ed64-4140-a6b9-9755b46f82e2",
   "metadata": {},
   "outputs": [],
   "source": [
    "import numpy as np"
   ]
  },
  {
   "cell_type": "code",
   "execution_count": 5,
   "id": "8bb648e7-0917-4171-926a-bb65f5d1cb1e",
   "metadata": {},
   "outputs": [],
   "source": [
    "with open('input.txt','r') as f:\n",
    "    input = f.readlines()"
   ]
  },
  {
   "cell_type": "markdown",
   "id": "116d5d20-4d64-4ab7-a868-44772aaf4f62",
   "metadata": {},
   "source": [
    "## Part 1"
   ]
  },
  {
   "cell_type": "code",
   "execution_count": 9,
   "id": "1c66f772-6e7a-46cc-8d20-ec19236c6421",
   "metadata": {},
   "outputs": [],
   "source": [
    "ignore_chars = 'abcdefghijklmnopqrstuvwxyz\\n'"
   ]
  },
  {
   "cell_type": "code",
   "execution_count": 15,
   "id": "acd96132-c27d-4ca9-aaf8-ed4270bd6ed7",
   "metadata": {},
   "outputs": [],
   "source": [
    "calibration_codes = []\n",
    "for line in input:\n",
    "    first_number = line.lstrip(ignore_chars)[0]\n",
    "    last_number = line.rstrip(ignore_chars)[-1]\n",
    "    calibration_codes += [int(first_number + last_number),]"
   ]
  },
  {
   "cell_type": "code",
   "execution_count": 16,
   "id": "047cf47b-ba3a-4212-b92f-330e100a04a6",
   "metadata": {},
   "outputs": [
    {
     "data": {
      "text/plain": [
       "55447"
      ]
     },
     "execution_count": 16,
     "metadata": {},
     "output_type": "execute_result"
    }
   ],
   "source": [
    "np.sum(calibration_codes)"
   ]
  },
  {
   "cell_type": "markdown",
   "id": "e0db672d-ad99-4a26-a6e4-1e1a9cd23185",
   "metadata": {},
   "source": [
    "## Part 2"
   ]
  },
  {
   "cell_type": "code",
   "execution_count": 67,
   "id": "5a1a5f48-ccd0-42cd-84e7-b27750cfbc5c",
   "metadata": {},
   "outputs": [],
   "source": [
    "real_codes = []\n",
    "search_terms = ['one','two','three','four','five','six','seven','eight','nine',\n",
    "                '1','2','3','4','5','6','7','8','9']\n",
    "search_vals = [str(i) for i in np.arange(1,10)] * 2\n",
    "\n",
    "for line in input:\n",
    "\n",
    "    first_instance = np.nan*np.ones(np.size(search_vals))\n",
    "    last_instance = np.nan*np.ones(np.size(search_vals))\n",
    "    \n",
    "    for t, term in enumerate(search_terms):\n",
    "        first = line.find(term)\n",
    "        if first > -1:\n",
    "            first_instance[t] = first\n",
    "        last = line.rfind(term)\n",
    "        if last > -1:\n",
    "            last_instance[t] = last\n",
    "\n",
    "    real_codes += [int(search_vals[np.nanargmin(first_instance)] + search_vals[np.nanargmax(last_instance)])]"
   ]
  },
  {
   "cell_type": "code",
   "execution_count": 69,
   "id": "97ebeb5d-0c38-4436-a3df-20220e4fd55e",
   "metadata": {},
   "outputs": [
    {
     "data": {
      "text/plain": [
       "54706"
      ]
     },
     "execution_count": 69,
     "metadata": {},
     "output_type": "execute_result"
    }
   ],
   "source": [
    "np.sum(real_codes)"
   ]
  }
 ],
 "metadata": {
  "kernelspec": {
   "display_name": "Python 3 (ipykernel)",
   "language": "python",
   "name": "python3"
  },
  "language_info": {
   "codemirror_mode": {
    "name": "ipython",
    "version": 3
   },
   "file_extension": ".py",
   "mimetype": "text/x-python",
   "name": "python",
   "nbconvert_exporter": "python",
   "pygments_lexer": "ipython3",
   "version": "3.10.12"
  }
 },
 "nbformat": 4,
 "nbformat_minor": 5
}
